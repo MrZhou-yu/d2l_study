{
 "cells": [
  {
   "cell_type": "markdown",
   "metadata": {},
   "source": [
    "### This is jupyter notebook"
   ]
  },
  {
   "cell_type": "code",
   "execution_count": 1,
   "metadata": {},
   "outputs": [
    {
     "name": "stdout",
     "output_type": "stream",
     "text": [
      "opencv\n"
     ]
    }
   ],
   "source": [
    "print('opencv')"
   ]
  },
  {
   "cell_type": "code",
   "execution_count": 2,
   "metadata": {},
   "outputs": [],
   "source": [
    "import cv2 as cv\n",
    "import matplotlib.pyplot as plt\n",
    "import numpy as np\n",
    "\n",
    "img=cv.imread('./target.png')"
   ]
  },
  {
   "cell_type": "code",
   "execution_count": 3,
   "metadata": {},
   "outputs": [
    {
     "data": {
      "text/plain": [
       "array([[[126, 136, 223],\n",
       "        [126, 136, 224],\n",
       "        [128, 138, 226],\n",
       "        ...,\n",
       "        [129, 148, 229],\n",
       "        [130, 151, 233],\n",
       "        [130, 150, 235]],\n",
       "\n",
       "       [[128, 138, 225],\n",
       "        [127, 137, 224],\n",
       "        [128, 138, 226],\n",
       "        ...,\n",
       "        [129, 149, 226],\n",
       "        [126, 148, 226],\n",
       "        [127, 148, 229]],\n",
       "\n",
       "       [[128, 138, 225],\n",
       "        [124, 137, 223],\n",
       "        [126, 138, 226],\n",
       "        ...,\n",
       "        [128, 149, 231],\n",
       "        [126, 147, 232],\n",
       "        [124, 147, 233]],\n",
       "\n",
       "       ...,\n",
       "\n",
       "       [[ 62,  24,  84],\n",
       "        [ 63,  22,  83],\n",
       "        [ 64,  20,  81],\n",
       "        ...,\n",
       "        [ 91,  71, 148],\n",
       "        [ 90,  70, 143],\n",
       "        [ 84,  63, 138]],\n",
       "\n",
       "       [[ 55,  13,  78],\n",
       "        [ 56,  10,  76],\n",
       "        [ 56,  11,  74],\n",
       "        ...,\n",
       "        [101,  82, 155],\n",
       "        [ 85,  66, 139],\n",
       "        [ 78,  58, 131]],\n",
       "\n",
       "       [[212, 222, 236],\n",
       "        [212, 222, 236],\n",
       "        [214, 224, 238],\n",
       "        ...,\n",
       "        [213, 217, 218],\n",
       "        [213, 217, 218],\n",
       "        [214, 218, 219]]], dtype=uint8)"
      ]
     },
     "execution_count": 3,
     "metadata": {},
     "output_type": "execute_result"
    }
   ],
   "source": [
    "img"
   ]
  },
  {
   "cell_type": "code",
   "execution_count": 5,
   "metadata": {},
   "outputs": [],
   "source": [
    "cv.imshow('image',img)\n",
    "cv.waitKey(0)\n",
    "cv.destroyAllWindows()"
   ]
  },
  {
   "cell_type": "markdown",
   "metadata": {},
   "source": []
  }
 ],
 "metadata": {
  "interpreter": {
   "hash": "45181bf35a62443b9385974df6fb9c881656510a26d3d72ea37359275da11e5c"
  },
  "kernelspec": {
   "display_name": "Python 3.9.10 64-bit",
   "language": "python",
   "name": "python3"
  },
  "language_info": {
   "codemirror_mode": {
    "name": "ipython",
    "version": 3
   },
   "file_extension": ".py",
   "mimetype": "text/x-python",
   "name": "python",
   "nbconvert_exporter": "python",
   "pygments_lexer": "ipython3",
   "version": "3.9.10"
  },
  "orig_nbformat": 4
 },
 "nbformat": 4,
 "nbformat_minor": 2
}
